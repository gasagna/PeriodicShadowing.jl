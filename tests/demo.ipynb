{
 "cells": [
  {
   "cell_type": "code",
   "execution_count": 18,
   "metadata": {},
   "outputs": [
    {
     "data": {
      "text/plain": [
       "true"
      ]
     },
     "execution_count": 18,
     "metadata": {},
     "output_type": "execute_result"
    }
   ],
   "source": [
    "using Flows, PeriodicShadowing, PyPlot; pygui(true)"
   ]
  },
  {
   "cell_type": "code",
   "execution_count": 2,
   "metadata": {},
   "outputs": [],
   "source": [
    "include(\"lorenz.jl\");"
   ]
  },
  {
   "cell_type": "code",
   "execution_count": 124,
   "metadata": {},
   "outputs": [],
   "source": [
    "# Problem Parameters - the parameter ρ defaults to 28\n",
    "Δt = 0.5e-2;"
   ]
  },
  {
   "cell_type": "code",
   "execution_count": 125,
   "metadata": {},
   "outputs": [],
   "source": [
    "# nonlinear right hand side and associated integrator\n",
    "f = LorNLinEq()\n",
    "ϕ = flow(f, \n",
    "         RK4(zeros(3), :NORMAL), \n",
    "         TimeStepConstant(Δt));"
   ]
  },
  {
   "cell_type": "code",
   "execution_count": 126,
   "metadata": {},
   "outputs": [],
   "source": [
    "# linear homogeneous integrator, obtained by \n",
    "# coupling the linear and nonlinear equations.\n",
    "l_h = LorLinEq()\n",
    "ψ   = flow(couple(f, l_h), \n",
    "           RK4(couple(zeros(3), zeros(3)), :NORMAL), \n",
    "           TimeStepConstant(Δt));"
   ]
  },
  {
   "cell_type": "code",
   "execution_count": 127,
   "metadata": {},
   "outputs": [],
   "source": [
    "# linear inhomogeneous integrator, obtained by \n",
    "# coupling the linear and nonlinear equations\n",
    "l_nh = LorLinEq(dfdρ_forcing)\n",
    "ρ    = flow(couple(f, l_nh), \n",
    "            RK4(couple(zeros(3), zeros(3)), :NORMAL), \n",
    "            TimeStepConstant(Δt));"
   ]
  },
  {
   "cell_type": "code",
   "execution_count": 181,
   "metadata": {},
   "outputs": [],
   "source": [
    "# Parameters of the shooting algorithm\n",
    "\n",
    "# initial condition\n",
    "x0 = ϕ(Float64[1, 1, 1], (0, 100)) \n",
    "\n",
    "# time span\n",
    "T = 250\n",
    "\n",
    "# number of shooting intervals (it is best if this is selected such \n",
    "# that the nonlinear solver hits the endpoints of the shooting interval\n",
    "# exactly)\n",
    "N = 50;"
   ]
  },
  {
   "cell_type": "code",
   "execution_count": 182,
   "metadata": {},
   "outputs": [],
   "source": [
    "# Get shooting points\n",
    "x0s = get_shooting_points(ϕ, x0, T, N);"
   ]
  },
  {
   "cell_type": "code",
   "execution_count": 183,
   "metadata": {},
   "outputs": [],
   "source": [
    "# Now solve the problem. This will return the solution at the shooting points and the \n",
    "# period gradient\n",
    "y0s, TpT = solve_ps_plc_tan(ψ, ρ, ϕ, f, copy(x0s), T);"
   ]
  },
  {
   "cell_type": "code",
   "execution_count": 184,
   "metadata": {},
   "outputs": [],
   "source": [
    "# Let us now plot the solution. We first need to define a non-homogeneous linear \n",
    "# integrator to integrate the full equations. We do this by passing two forcings\n",
    "# that will be added to the normal homogeneous equations. \n",
    "l_nh_χ = LorLinEq(dfdρ_forcing, f_forcing(TpT))\n",
    "ρ_χ    = flow(couple(f, l_nh_χ), \n",
    "            RK4(couple(zeros(3), zeros(3)), :NORMAL), \n",
    "            TimeStepConstant(Δt));"
   ]
  },
  {
   "cell_type": "code",
   "execution_count": 185,
   "metadata": {},
   "outputs": [],
   "source": [
    "# We need to define a monitor object, to save the solution. When we integrate the \n",
    "# coupled equations we will pass to the monitor objects of type `Coupled`, which\n",
    "# include the state and the perturbation. We get the perturbation with the function \n",
    "# `last` (as opposed to first for the state part), and the save the third component\n",
    "mon = Monitor(couple(zeros(3), zeros(3)), xy->last(xy)[3]);"
   ]
  },
  {
   "cell_type": "code",
   "execution_count": 186,
   "metadata": {},
   "outputs": [],
   "source": [
    "# Now we propagate the non-homogeneous propagator coupled to the nonlinear\n",
    "# equations. Note how we couple the correct state and perturbation components\n",
    "# and how we make a copy, to avoid corrupting the data. I am also using the\n",
    "# function ith_span, to integrate the equations over the correct time span.\n",
    "# this will be usefult later for plotting.\n",
    "\n",
    "# for each interval, we save the history of z and the corresponding time here\n",
    "z_all = Float64[]\n",
    "t_all = Float64[]\n",
    "\n",
    "for i = 1:N\n",
    "    # propagate. Note that we need to reset the monitor at each step\n",
    "    ρ_χ(couple(copy(x0s[i]), copy(y0s[i])), ith_span(i, N, T), reset!(mon))\n",
    "    \n",
    "    # save\n",
    "    append!(z_all, samples(mon))\n",
    "    append!(t_all, times(mon))\n",
    "end  "
   ]
  },
  {
   "cell_type": "code",
   "execution_count": 187,
   "metadata": {},
   "outputs": [
    {
     "data": {
      "text/plain": [
       "PyObject <matplotlib.text.Text object at 0x104f77710>"
      ]
     },
     "execution_count": 187,
     "metadata": {},
     "output_type": "execute_result"
    }
   ],
   "source": [
    "# Let's now plot the solution!\n",
    "figure(1)\n",
    "clf()\n",
    "\n",
    "plot(t_all, z_all)\n",
    "\n",
    "# we also add lines, to denote the shooting intervals\n",
    "for i = 0:N-1\n",
    "    axvline(i*T/N, color=\"0.3\", zorder=0)\n",
    "end\n",
    "\n",
    "# add labels\n",
    "xlabel(L\"t\")\n",
    "ylabel(L\"z^\\prime(t)\")"
   ]
  },
  {
   "cell_type": "code",
   "execution_count": 188,
   "metadata": {},
   "outputs": [],
   "source": [
    "# Now we need to compute certain integrals, namely the sensitivity integral.\n",
    "# To do so, we define a quadrature function first. Note the signature:\n",
    "# this function will receive a nested coupled object, containing the state \n",
    "# the perturbation and the current value of the quadrature, which is shown\n",
    "# by how I first unpack the term xyq. \n",
    "function quadfun(t, xyq::Coupled{<:Coupled, Vector{Float64}}, dqdt)\n",
    "    x = first(first(xyq))\n",
    "    y =  last(first(xyq))\n",
    "    q =        last(xyq)\n",
    "    dqdt[1] = y[3]\n",
    "    return dqdt\n",
    "end\n",
    "\n",
    "# now we define a special integrator, defined by the coupled nonlinear/linearised\n",
    "# equations, (forget about the second argument, it used for implicit-explicit\n",
    "# integrators such as CB3R2R3e), plus the quadrature equation. Note that we do\n",
    "# not have to define the type for RK4 as a nested coupled type. However, since\n",
    "# we only integrate one quadrature equation, we define zeros(1) for that one.\n",
    "l_nh_χ = LorLinEq(dfdρ_forcing, f_forcing(TpT))\n",
    "ρ_χ_quad = flow(couple(f, l_nh_χ), nothing, quadfun,\n",
    "            RK4(couple(zeros(3), zeros(3)), zeros(1), :NORMAL), \n",
    "            TimeStepConstant(Δt));"
   ]
  },
  {
   "cell_type": "code",
   "execution_count": 189,
   "metadata": {},
   "outputs": [
    {
     "data": {
      "text/plain": [
       "1-element Array{Float64,1}:\n",
       " 1.01559"
      ]
     },
     "execution_count": 189,
     "metadata": {},
     "output_type": "execute_result"
    }
   ],
   "source": [
    "# now we can compute the gradient of the average! This is quite \n",
    "# close to the value obtained from finite-differences! GOOD\n",
    "quadrature_(ρ_χ_quad, y0s, x0s, Float64[0.0], T)"
   ]
  }
 ],
 "metadata": {
  "kernelspec": {
   "display_name": "Julia 0.6.4-pre",
   "language": "julia",
   "name": "julia-0.6"
  },
  "language_info": {
   "file_extension": ".jl",
   "mimetype": "application/julia",
   "name": "julia",
   "version": "0.6.4"
  }
 },
 "nbformat": 4,
 "nbformat_minor": 2
}
